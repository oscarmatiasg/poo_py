{
 "cells": [
  {
   "cell_type": "markdown",
   "metadata": {},
   "source": [
    "# Conceptos de POO\n",
    "\n",
    "En esta clase, aprenderás sobre la Programación Orientada a Objetos (POO) en Python y su concepto fundamental con la ayuda de ejemplos."
   ]
  },
  {
   "cell_type": "markdown",
   "metadata": {},
   "source": [
    "## Programación Orientada a Objetos\n",
    "\n",
    "Python es un lenguaje de programación multiparadigma. Soporta diferentes enfoques de programación.\n",
    "\n",
    "Uno de los enfoques populares para resolver un problema de programación es creando objetos. Esto se conoce como Programación Orientada a Objetos (POO).\n",
    "\n",
    "La programación orientada a objetos (POO) es un paradigma de programación basado en el concepto de **\"objetos\"**. Un objeto contiene tanto datos como código: los datos en forma de propiedades (a menudo conocidos como atributos) y el código, en forma de métodos (acciones que el objeto puede realizar).\n",
    "\n",
    "Un objeto tiene dos características:\n",
    "\n",
    "* atributos\n",
    "* comportamiento\n",
    "\n",
    "Por ejemplo:\n",
    "\n",
    "Un loro puede ser un objeto, ya que tiene las siguientes propiedades:\n",
    "\n",
    "* nombre, edad, color como atributos\n",
    "* cantar, bailar como comportamiento\n",
    "\n",
    "El concepto de POO en Python se centra en crear código reutilizable. Este concepto también es conocido como DRY (Don't Repeat Yourself, \"No te repitas\").\n",
    "\n",
    "En Python, el concepto de POO sigue algunos principios básicos:"
   ]
  },
  {
   "cell_type": "markdown",
   "metadata": {},
   "source": [
    "### Clase \n",
    "\n",
    "En Python, todo es un objeto. Una clase es un plano para el objeto. Para crear un objeto, necesitamos un modelo, plan o plano, que no es más que una clase.\n",
    "\n",
    "Creamos una clase para crear un objeto. Una clase es como un constructor de objetos o un \"plano\" para crear objetos. Instanciamos una clase para crear un objeto. La clase define los atributos y el comportamiento del objeto, mientras que el objeto, por otro lado, representa la clase.\n",
    "\n",
    "Una clase representa las propiedades (atributos) y acciones (comportamiento) del objeto. Las propiedades representan variables y las acciones son representadas por los métodos. Por lo tanto, una clase contiene tanto variables como métodos.\n",
    "\n",
    "Podemos pensar en una clase como un boceto de un loro con etiquetas. Contiene todos los detalles sobre el nombre, colores, tamaño, etc. Basándonos en estas descripciones, podemos estudiar sobre el loro. Aquí, el loro es un objeto.\n",
    "\n",
    "**Syntax:**\n",
    "\n",
    "```python\n",
    "class nombre_de_la_clase:\n",
    "    '''cadena de documentación'''\n",
    "    conjunto_de_la_clase\n",
    "```\n",
    "* **Cadena de documentación** representa una descripción de la clase. Es opcional.\n",
    "* **conjunto_de_la_clase** el conjunto de clase contiene sentencias, variables, métodos, funciones y atributos.\n",
    "\n",
    "El ejemplo para la clase de un loro puede ser:\n",
    "\n",
    "```python\n",
    "class Loro:\n",
    "    pass\n",
    "```\n",
    "\n",
    "Aquí, usamos la palabra clave **`class`** para definir una clase vacía **`Loro`**. A partir de una clase, construimos instancias. Una instancia es un objeto específico creado a partir de una clase en particular.\n",
    "\n",
    "```python\n",
    "class Persona:\n",
    "    pass\n",
    "print(Persona)\n",
    "```"
   ]
  },
  {
   "cell_type": "code",
   "execution_count": 28,
   "metadata": {},
   "outputs": [
    {
     "name": "stdout",
     "output_type": "stream",
     "text": [
      "<class '__main__.Persona'>\n"
     ]
    }
   ],
   "source": [
    "# Creando una clase\n",
    "\n",
    "class Persona:\n",
    "    pass\n",
    "print(Persona) #Este resultado indica que Persona es una clase definida en el módulo principal (__main__)."
   ]
  },
  {
   "cell_type": "markdown",
   "metadata": {},
   "source": [
    "### Objeto \n",
    "\n",
    "La existencia física de una clase no es más que un objeto. En otras palabras, el objeto es una entidad que tiene un estado y comportamiento.\n",
    "\n",
    "Por lo tanto, un objeto (instancia) es una instanciación de una clase. Así que, cuando se define una clase, solo se define la descripción del objeto. Por lo tanto, no se asigna memoria o almacenamiento.\n",
    "\n",
    "**Syntaxis:**\n",
    "\n",
    "```python\n",
    "variable_referencia = nombre_de_clase()\n",
    "```\n",
    "\n",
    "El ejemplo de un objeto de la clase loro puede ser:\n",
    "```python\n",
    "obj = loro()\n",
    "```\n",
    "\n",
    "Aquí, **`obj`** es un **`objeto`** de la clase Loro.\n",
    "\n",
    "Supongamos que tenemos detalles sobre los loros. Ahora, vamos a mostrar cómo construir la clase y los objetos de los loros.\n",
    "\n",
    "```python\n",
    "p = Persona()\n",
    "print(p)\n",
    "```"
   ]
  },
  {
   "cell_type": "code",
   "execution_count": 30,
   "metadata": {
    "scrolled": true
   },
   "outputs": [
    {
     "name": "stdout",
     "output_type": "stream",
     "text": [
      "<__main__.Persona object at 0x000001722ED9C2C0>\n"
     ]
    }
   ],
   "source": [
    "# Ejemplo 1: Podemos crear un objeto llamando a la clase\n",
    "\n",
    "p = Persona()\n",
    "print(p) #<__main__.Persona object at 0x...>"
   ]
  },
  {
   "cell_type": "code",
   "execution_count": 1,
   "metadata": {
    "ExecuteTime": {
     "end_time": "2021-06-19T09:00:01.298252Z",
     "start_time": "2021-06-19T09:00:01.283605Z"
    }
   },
   "outputs": [
    {
     "name": "stdout",
     "output_type": "stream",
     "text": [
      "Bienvenido a la clase de Programación en Python del mentor Oscar\n"
     ]
    }
   ],
   "source": [
    "# Ejemplo 2: Creando Clase y Objeto en Python\n",
    "\n",
    "class Estudiante:\n",
    "    \"\"\"Esta es la clase Estudiante con datos\"\"\"    \n",
    "    def aprender(self):    # Un método de ejemplo\n",
    "        print(\"Bienvenido a la clase de Programación en Python del mentor Oscar\")\n",
    "\n",
    "estud = Estudiante()        # creando objeto\n",
    "estud.aprender()            # Llamando al método\n",
    "\n",
    "# Salida: Bienvenido a la clase de Programación en Python del mentor Oscar\n"
   ]
  },
  {
   "cell_type": "markdown",
   "metadata": {},
   "source": [
    "## Clase Constructor\n",
    "\n",
    "En los ejemplos anteriores, hemos creado un objeto a partir de la clase **`Person.`** Sin embargo, una clase sin un constructor no es realmente útil en aplicaciones reales. Utilicemos una función constructora para hacer que nuestra clase sea más útil. Al igual que la función constructora en Java o JavaScript, Python también tiene una función constructora incorporada llamada **`__init__()`**. La función constructora **`__init__()`** tiene un parámetro **`self`**, que es una referencia a la instancia actual de la clase."
   ]
  },
  {
   "cell_type": "code",
   "execution_count": 2,
   "metadata": {
    "scrolled": true
   },
   "outputs": [
    {
     "name": "stdout",
     "output_type": "stream",
     "text": [
      "Matias\n",
      "<__main__.Persona object at 0x0000016639543170>\n"
     ]
    }
   ],
   "source": [
    "class Persona:\n",
    "      def __init__ (self, name):\n",
    "        # self allows to attach parameter to the class\n",
    "          self.name =name\n",
    "\n",
    "p = Persona('Matias')\n",
    "print(p.name)  # imprimirá Matias\n",
    "\n",
    "print(p) # imprimirá <__main__.Persona object at 0x...>"
   ]
  },
  {
   "cell_type": "markdown",
   "metadata": {},
   "source": [
    "Vamos a agregar más parámetros a la función constructora."
   ]
  },
  {
   "cell_type": "code",
   "execution_count": 3,
   "metadata": {
    "scrolled": true
   },
   "outputs": [
    {
     "name": "stdout",
     "output_type": "stream",
     "text": [
      "Matias\n",
      "Gonzalez\n",
      "27\n",
      "Paraguay\n",
      "Asunción\n"
     ]
    }
   ],
   "source": [
    "# Ejemplo 1: agregar más parámetros a la función constructora.\n",
    "\n",
    "class Persona:\n",
    "      def __init__(self, nombre, apellido, edad, país, ciudad):\n",
    "            self.nombre = nombre\n",
    "            self.apellido = apellido\n",
    "            self.edad = edad\n",
    "            self.país = país\n",
    "            self.ciudad = ciudad\n",
    "\n",
    "p = Persona('Matias', 'Gonzalez', 27, 'Paraguay', 'Asunción')\n",
    "print(p.nombre)\n",
    "print(p.apellido)\n",
    "print(p.edad)\n",
    "print(p.país)\n",
    "print(p.ciudad)"
   ]
  },
  {
   "cell_type": "markdown",
   "metadata": {},
   "source": [
    "## Variables y Métodos de Instancia\n",
    "\n",
    "Si el valor de una variable varía de objeto a objeto, entonces esas variables se llaman variables de instancia. Para cada objeto, se creará una copia separada de la variable de instancia.\n",
    "\n",
    "Al crear clases en Python, se utilizan regularmente los métodos de instancia. Necesitamos crear un objeto para ejecutar el bloque de código o acción definido en el método de instancia.\n",
    "\n",
    "Podemos acceder a las variables y métodos de instancia utilizando el objeto. Utilice el operador punto (**`.`**) para acceder a las variables y métodos de instancia.\n",
    "\n",
    "En Python, al trabajar con variables y métodos de instancia, utilizamos la palabra clave self. Cuando utilizamos la palabra clave self como parámetro de un método o con un nombre de variable, se refiere al objeto mismo.\n",
    "\n",
    ">**Nota:** Las variables de instancia se utilizan dentro del método de instancia."
   ]
  },
  {
   "cell_type": "code",
   "execution_count": 4,
   "metadata": {
    "ExecuteTime": {
     "end_time": "2021-06-19T09:00:03.112688Z",
     "start_time": "2021-06-19T09:00:03.099018Z"
    }
   },
   "outputs": [
    {
     "name": "stdout",
     "output_type": "stream",
     "text": [
      "El nombre es: Arturo y el curso es: 4\n"
     ]
    }
   ],
   "source": [
    "# Ejemplo 2: Crear Clase y Objeto en Python\n",
    "\n",
    "class Student:\n",
    "    def __init__(self, nombre, curso):\n",
    "        self.nombre = nombre\n",
    "        self.curso = curso\n",
    "\n",
    "    def show(self):\n",
    "        print(\"El nombre es:\", self.nombre, \"y el curso es:\", self.curso)\n",
    "\n",
    "        \n",
    "stud = Student(\"Arturo\", 4)\n",
    "stud.show()   \n",
    "\n",
    "# Output: El nombre es: Arturo y el curso es: 4\n"
   ]
  },
  {
   "cell_type": "code",
   "execution_count": 5,
   "metadata": {
    "ExecuteTime": {
     "end_time": "2021-06-19T09:00:06.483747Z",
     "start_time": "2021-06-19T09:00:06.468123Z"
    }
   },
   "outputs": [
    {
     "name": "stdout",
     "output_type": "stream",
     "text": [
      "Pancho es un ave\n",
      "Teco también es un ave\n",
      "pancho tiene 2 años\n",
      "teo tiene 5 años\n"
     ]
    }
   ],
   "source": [
    "# Ejemplo 3: Crear Clase y Objeto en Python\n",
    "\n",
    "class Loro:\n",
    "    species = \"ave\"                    # atributo de clase\n",
    "    def __init__(self, nombre, edad):      # instancia de clase\n",
    "        self.nombre = nombre\n",
    "        self.edad = edad\n",
    "\n",
    "# instanciar la clase Loro\n",
    "pancho = Loro(\"pancho\", 2)\n",
    "teco = Loro(\"teo\", 5)\n",
    "\n",
    "# acceder a los atributos de clase\n",
    "print(\"Pancho es un {}\".format(pancho.__class__.species))\n",
    "print(\"Teco también es un {}\".format(teco.__class__.species))\n",
    "\n",
    "# acceder a los atributos de instancia\n",
    "print(\"{} tiene {} años\".format( pancho.nombre, pancho.edad))\n",
    "print(\"{} tiene {} años\".format( teco.nombre, teco.edad))"
   ]
  },
  {
   "cell_type": "markdown",
   "metadata": {},
   "source": [
    "**Explicación :**\n",
    "\n",
    "En el programa anterior, creamos una clase con el nombre Loro . Luego, definimos atributos. Los atributos son una característica de un objeto.\n",
    "Estos atributos se definen dentro del método **__init__** de la clase. Es el método inicializador que se ejecuta primero tan pronto como se crea el objeto.\n",
    "Luego, creamos instancias de la clase Loro . Aquí, **Pancho** y **Teco** son referencias (valor) a nuestros nuevos objetos.\n",
    "Podemos acceder al atributo de clase utilizando **__class__.** especie . Los atributos de clase son los mismos para todas las instancias de una clase. De manera similar, accedemos a los atributos de instancia utilizando pancho.nombre y teco.edad . Sin embargo, los atributos de instancia son diferentes para cada instancia de una clase."
   ]
  },
  {
   "cell_type": "markdown",
   "metadata": {},
   "source": [
    "### Metodos de Objetos\n",
    "\n",
    "Los métodos de objeto son funciones definidas dentro del cuerpo de una clase. Se utilizan para definir el comportamiento de un objeto.\n",
    "Los objetos pueden tener métodos. Los métodos son funciones que pertenecen al objeto. </br>\n",
    "Otra forma de traducirlo:\n",
    "Métodos de objeto: son funciones que se definen dentro de una clase y describen el comportamiento de un objeto.\n",
    "Los objetos pueden tener métodos, que son funciones asociadas a cada objeto."
   ]
  },
  {
   "cell_type": "code",
   "execution_count": 6,
   "metadata": {},
   "outputs": [
    {
     "name": "stdout",
     "output_type": "stream",
     "text": [
      "María Gonzalez is 26 years old. He lives in London, England\n"
     ]
    }
   ],
   "source": [
    "# Ejemplo 1:\n",
    "\n",
    "class Person:\n",
    "      def __init__(self, firstname, lastname, age, country, city):\n",
    "            self.firstname = firstname\n",
    "            self.lastname = lastname\n",
    "            self.age = age\n",
    "            self.country = country\n",
    "            self.city = city\n",
    "      def person_info(self):\n",
    "        return f'{self.firstname} {self.lastname} is {self.age} years old. He lives in {self.city}, {self.country}'\n",
    "\n",
    "p = Person('María', 'Gonzalez', 26, 'England', 'London')\n",
    "print(p.person_info())"
   ]
  },
  {
   "cell_type": "code",
   "execution_count": 7,
   "metadata": {
    "ExecuteTime": {
     "end_time": "2021-06-19T09:00:11.054497Z",
     "start_time": "2021-06-19T09:00:11.034969Z"
    }
   },
   "outputs": [
    {
     "name": "stdout",
     "output_type": "stream",
     "text": [
      "Blu sings 'Happy'\n",
      "Blu is now dancing\n"
     ]
    }
   ],
   "source": [
    "# Ejemplo 2: Creating Object Methods in Python\n",
    "\n",
    "class Loro:\n",
    "    \n",
    "    # instance attributes\n",
    "    def __init__(self, name, age):\n",
    "        self.name = name\n",
    "        self.age = age\n",
    "    \n",
    "    # instance method\n",
    "    def sing(self, song):\n",
    "        return \"{} sings {}\".format(self.name, song)\n",
    "\n",
    "    def dance(self):\n",
    "        return \"{} is now dancing\".format(self.name)\n",
    "\n",
    "# instantiate the object\n",
    "blu = Loro(\"Blu\", 10)\n",
    "\n",
    "# call our instance methods\n",
    "print(blu.sing(\"'Happy'\"))\n",
    "print(blu.dance())"
   ]
  },
  {
   "cell_type": "markdown",
   "metadata": {},
   "source": [
    "**Explicación**:\n",
    "\n",
    "En el programa anterior, definimos dos métodos: **`sing()`** and **`dance()`**. Se consideran métodos de instancia porque se invocan sobre un objeto específico, en este caso, blu."
   ]
  },
  {
   "cell_type": "markdown",
   "metadata": {},
   "source": [
    "## Herencia\n",
    "\n",
    "En Python, la **herencia** es el proceso por el cual una clase derivada (o clase hija) hereda las propiedades de una clase base (o clase padre).\n",
    "En un lenguaje de programación orientado a objetos, la herencia es un aspecto importante. Mediante la herencia, podemos reutilizar el código de la clase padre. La herencia nos permite definir una clase que hereda todos los métodos y propiedades de la clase padre. La clase padre o superclase o clase base es la clase que proporciona todos los métodos y propiedades. La clase hija es la clase que hereda de otra clase padre.\n",
    "En la herencia, la clase hija adquiere y accede a todos los miembros de datos, propiedades y funciones de la clase padre. Además, la clase hija también puede proporcionar su propia implementación específica para las funciones de la clase padre.\n",
    "\n",
    "### Uso de la herencia\n",
    "\n",
    "El propósito principal de la herencia es la reutilización de código, ya que podemos utilizar la clase existente para crear una nueva clase en lugar de crearla desde cero.\n",
    "\n",
    "**Syntaxis:**\n",
    "\n",
    "```python\n",
    "class Vehículo:\n",
    "    def __init__(self, marca, modelo):\n",
    "        self.marca = marca\n",
    "        self.modelo = modelo\n",
    "\n",
    "    def mostrar_info(self):\n",
    "        print(f\"Marca: {self.marca}, Modelo: {self.modelo}\")"
   ]
  },
  {
   "cell_type": "code",
   "execution_count": 8,
   "metadata": {
    "ExecuteTime": {
     "end_time": "2021-06-19T09:00:24.847816Z",
     "start_time": "2021-06-19T09:00:24.835121Z"
    }
   },
   "outputs": [
    {
     "name": "stdout",
     "output_type": "stream",
     "text": [
      "Esta es la clase padre\n",
      "Esta es la clase hija\n"
     ]
    }
   ],
   "source": [
    "# Ejemplo 1: Uso de Herencia en Python\n",
    "\n",
    "class ClasePadre:              # Clase base\n",
    "    def func1(self):\n",
    "        print('Esta es la clase padre')\n",
    "\n",
    "class ClaseHija(ClasePadre):    # Clase derivada\n",
    "    def func2(self):\n",
    "        print('Esta es la clase hija')\n",
    "\n",
    "obj = ClaseHija()\n",
    "obj.func1()   # Accede a la función de la clase padre\n",
    "obj.func2()   # Accede a la función de la clase hija"
   ]
  },
  {
   "cell_type": "markdown",
   "metadata": {},
   "source": [
    "Creemos una clase **Estudiante** heredando de la clase **Persona** .\n"
   ]
  },
  {
   "cell_type": "code",
   "execution_count": 9,
   "metadata": {
    "scrolled": true
   },
   "outputs": [
    {
     "name": "stdout",
     "output_type": "stream",
     "text": [
      "Nombre: Juan Pérez, Edad: 22\n",
      "Carrera: Ingeniería en Software, Universidad: Universidad Nacional de Asunción\n"
     ]
    }
   ],
   "source": [
    "# Example 2: Use of Inheritance in Python\n",
    "\n",
    "class Persona:\n",
    "    def __init__(self, nombre, edad,):\n",
    "        self.nombre = nombre\n",
    "        self.edad = edad\n",
    "\n",
    "    def mostrar_info(self):\n",
    "        print(f\"Nombre: {self.nombre}, Edad: {self.edad}\")\n",
    "\n",
    "\n",
    "class Estudiante(Persona):\n",
    "    def __init__(self, nombre, edad, carrera, universidad):\n",
    "        super().__init__(nombre, edad)\n",
    "        self.carrera = carrera\n",
    "        self.universidad = universidad\n",
    "\n",
    "    def mostrar_info(self):\n",
    "        super().mostrar_info()\n",
    "        print(f\"Carrera: {self.carrera}, Universidad: {self.universidad}\")\n",
    "\n",
    "\n",
    "estudiante = Estudiante(\"Juan Pérez\", 22, \"Ingeniería en Software\", \"Universidad Nacional de Asunción\")\n",
    "estudiante.mostrar_info()"
   ]
  },
  {
   "cell_type": "markdown",
   "metadata": {},
   "source": [
    "**Explicación:**\n",
    "\n",
    "No llamamos al constructor **`__init__()`** en la clase hija. Si no lo llamamos, aún así podemos acceder a todas las propiedades de la clase padre. Pero si lo llamamos, podemos acceder a las propiedades del padre llamando a **super().**\n",
    "Podemos agregar un nuevo método a la clase hija o sobreescribir los métodos de la clase padre creando un método con el mismo nombre en la clase hija. Cuando agregamos la función **`__init__()`**, la clase hija ya no heredará la función **`__init__()`** del padre.\n",
    "Nota: Al sobreescribir un método, la clase hija reemplaza la implementación del método del padre con su propia implementación."
   ]
  },
  {
   "cell_type": "code",
   "execution_count": 56,
   "metadata": {},
   "outputs": [
    {
     "name": "stdout",
     "output_type": "stream",
     "text": [
      "Arthur Curry is 33 years old. He lives in London, England.\n"
     ]
    },
    {
     "ename": "AttributeError",
     "evalue": "'Student' object has no attribute 'add_skill'",
     "output_type": "error",
     "traceback": [
      "\u001b[1;31m---------------------------------------------------------------------------\u001b[0m",
      "\u001b[1;31mAttributeError\u001b[0m                            Traceback (most recent call last)",
      "Cell \u001b[1;32mIn[57], line 23\u001b[0m\n\u001b[0;32m     21\u001b[0m s2 \u001b[38;5;241m=\u001b[39m Student(\u001b[38;5;124m'\u001b[39m\u001b[38;5;124mEmily\u001b[39m\u001b[38;5;124m'\u001b[39m, \u001b[38;5;124m'\u001b[39m\u001b[38;5;124mCarter\u001b[39m\u001b[38;5;124m'\u001b[39m, \u001b[38;5;241m28\u001b[39m, \u001b[38;5;124m'\u001b[39m\u001b[38;5;124mEngland\u001b[39m\u001b[38;5;124m'\u001b[39m, \u001b[38;5;124m'\u001b[39m\u001b[38;5;124mManchester\u001b[39m\u001b[38;5;124m'\u001b[39m,\u001b[38;5;124m'\u001b[39m\u001b[38;5;124mfemale\u001b[39m\u001b[38;5;124m'\u001b[39m)\n\u001b[0;32m     22\u001b[0m \u001b[38;5;28mprint\u001b[39m(s1\u001b[38;5;241m.\u001b[39mperson_info())\n\u001b[1;32m---> 23\u001b[0m \u001b[43ms1\u001b[49m\u001b[38;5;241;43m.\u001b[39;49m\u001b[43madd_skill\u001b[49m(\u001b[38;5;124m'\u001b[39m\u001b[38;5;124mHTML\u001b[39m\u001b[38;5;124m'\u001b[39m)\n\u001b[0;32m     24\u001b[0m s1\u001b[38;5;241m.\u001b[39madd_skill(\u001b[38;5;124m'\u001b[39m\u001b[38;5;124mCSS\u001b[39m\u001b[38;5;124m'\u001b[39m)\n\u001b[0;32m     25\u001b[0m s1\u001b[38;5;241m.\u001b[39madd_skill(\u001b[38;5;124m'\u001b[39m\u001b[38;5;124mJavaScript\u001b[39m\u001b[38;5;124m'\u001b[39m)\n",
      "\u001b[1;31mAttributeError\u001b[0m: 'Student' object has no attribute 'add_skill'"
     ]
    }
   ],
   "source": [
    "# Ejemplo 2: Sobreescribiendo método del padre del ejemplo anterior\n",
    "\n",
    "class Person:\n",
    "    def __init__(self, firstname, lastname,age, country, city):\n",
    "        self.firstname = firstname\n",
    "        self.lastname = lastname\n",
    "        self.age = age\n",
    "        self.country = country\n",
    "        self.city = city\n",
    "\n",
    "class Student(Person):\n",
    "    def __init__ (self, firstname, lastname, age, country, city, gender):\n",
    "        self.gender = gender\n",
    "        super().__init__(firstname, lastname,age, country, city)\n",
    "        \n",
    "    def person_info(self):\n",
    "        gender = 'He' if self.gender =='male' else 'She'\n",
    "        return f'{self.firstname} {self.lastname} is {self.age} years old. {gender} lives in {self.city}, {self.country}.'\n",
    "\n",
    "s1 = Student('Arthur', 'Curry', 33, 'England', 'London','male')\n",
    "s2 = Student('Emily', 'Carter', 28, 'England', 'Manchester','female')\n",
    "print(s1.person_info())\n",
    "s1.add_skill('HTML')\n",
    "s1.add_skill('CSS')\n",
    "s1.add_skill('JavaScript')\n",
    "print(s1.skills)\n",
    "\n",
    "print(s2.person_info())\n",
    "s2.add_skill('Organizing')\n",
    "s2.add_skill('Marketing')\n",
    "s2.add_skill('Digital Marketing')\n",
    "print(s2.skills)"
   ]
  },
  {
   "cell_type": "markdown",
   "metadata": {},
   "source": [
    "**Explicación**:\n",
    "\n",
    "Podemos usar la función incorporada **`super()`** o el nombre de la clase padre, **`Person`**, para heredar automáticamente los métodos y propiedades de la clase padre. En el ejemplo anterior, sobrescribimos el método del padre. El método de la clase hija tiene una característica diferente: puede identificar si el género es masculino o femenino y asignar el pronombre adecuado (Él/Ella)."
   ]
  },
  {
   "cell_type": "code",
   "execution_count": 10,
   "metadata": {
    "ExecuteTime": {
     "end_time": "2021-06-19T09:00:23.526541Z",
     "start_time": "2021-06-19T09:00:23.515798Z"
    }
   },
   "outputs": [
    {
     "name": "stdout",
     "output_type": "stream",
     "text": [
      "Bird is ready\n",
      "Penguin is ready\n",
      "Penguin\n",
      "Swim faster\n",
      "Run faster\n"
     ]
    }
   ],
   "source": [
    "# Example 3: Use of Inheritance in Python\n",
    "\n",
    "# parent class\n",
    "class Bird:   \n",
    "    def __init__(self):\n",
    "        print(\"Bird is ready\")\n",
    "\n",
    "    def whoisThis(self):\n",
    "        print(\"Bird\")\n",
    "\n",
    "    def swim(self):\n",
    "        print(\"Swim faster\")\n",
    "\n",
    "# child class\n",
    "class Penguin(Bird):\n",
    "    def __init__(self):\n",
    "        # call super() function\n",
    "        super().__init__()\n",
    "        print(\"Penguin is ready\")\n",
    "\n",
    "    def whoisThis(self):\n",
    "        print(\"Penguin\")\n",
    "\n",
    "    def run(self):\n",
    "        print(\"Run faster\")\n",
    "\n",
    "peggy = Penguin()\n",
    "peggy.whoisThis()\n",
    "peggy.swim()\n",
    "peggy.run()"
   ]
  },
  {
   "cell_type": "markdown",
   "metadata": {},
   "source": [
    "**Explicación**:\n",
    "\n",
    "En el programa anterior, creamos dos clases, es decir, **`Bird`** (clase padre) y **`Penguin`** (clase hija). La clase hija hereda las funciones de la clase padre. Podemos ver esto en el método **`swim()`**.\n",
    "\n",
    "Además, la clase hija modificó el comportamiento de la clase padre. Esto se puede ver en el método **`whoisThis()`**. Asimismo, extendemos las funciones de la clase padre creando un nuevo método **`run()`**.\n",
    "\n",
    "Adicionalmente, usamos la función **`super()`** dentro del método **`__init__()`**. Esto nos permite ejecutar el método **`__init__()`** de la clase padre dentro de la clase hija."
   ]
  },
  {
   "cell_type": "markdown",
   "metadata": {},
   "source": [
    "## Encapsulation\n",
    "\n",
    "En Python, la encapsulación es un método que envuelve datos y funciones en una sola entidad. Por ejemplo, una clase encapsula todos los datos (métodos y variables). La encapsulación significa que la representación interna de un objeto generalmente está oculta fuera de la definición del objeto.\n",
    "Utilizando la programación orientada a objetos (POO) en Python, podemos restringir el acceso a métodos y variables. Esto previene la modificación directa de los datos, lo que se conoce como encapsulación. En Python, denotamos atributos privados utilizando un prefijo de guión bajo, es decir, un solo _ o doble __.\n",
    "\n",
    "## Necesidad de Encapsulación\n",
    "La encapsulación actúa como una capa de protección. Podemos restringir el acceso a métodos y variables desde fuera y prevenir la modificación de los datos por modificaciones accidentales o no autorizadas. La encapsulación proporciona seguridad ocultando los datos del mundo exterior.\n",
    "En Python, no tenemos modificadores de acceso directos como público, privado y protegido. Sin embargo, podemos lograr la encapsulación utilizando prefijos de guión bajo simple y doble para controlar el acceso a variables y métodos dentro del programa Python."
   ]
  },
  {
   "cell_type": "code",
   "execution_count": 60,
   "metadata": {
    "ExecuteTime": {
     "end_time": "2021-06-19T09:00:15.687261Z",
     "start_time": "2021-06-19T09:00:15.666758Z"
    }
   },
   "outputs": [
    {
     "name": "stdout",
     "output_type": "stream",
     "text": [
      "Selling Price: 900\n",
      "Selling Price: 900\n",
      "Selling Price: 1000\n"
     ]
    }
   ],
   "source": [
    "# Example 1: Data Encapsulation in Python\n",
    "\n",
    "class Computer:\n",
    "\n",
    "    def __init__(self):\n",
    "        self.__maxprice = 900\n",
    "\n",
    "    def sell(self):\n",
    "        print(\"Selling Price: {}\".format(self.__maxprice))\n",
    "\n",
    "    def setMaxPrice(self, price):\n",
    "        self.__maxprice = price\n",
    "\n",
    "c = Computer()\n",
    "c.sell()\n",
    "\n",
    "# change the price\n",
    "c.__maxprice = 1000\n",
    "c.sell()\n",
    "\n",
    "# using setter function\n",
    "c.setMaxPrice(1000)\n",
    "c.sell()"
   ]
  },
  {
   "cell_type": "markdown",
   "metadata": {},
   "source": [
    "**Explicación :**\n",
    "\n",
    "En el programa anterior, definimos una clase Computer .\n",
    "Utilizamos el método __init__() para almacenar el precio máximo de venta de la Computadora . Intentamos modificar el precio, pero no podemos cambiarlo porque Python trata a __maxprice como un atributo privado.\n",
    "Como se muestra, para cambiar el valor, debemos utilizar una función establecedora (setter) es decir, setMaxPrice() , que toma el precio como parámetro."
   ]
  },
  {
   "cell_type": "code",
   "execution_count": 62,
   "metadata": {
    "ExecuteTime": {
     "end_time": "2021-06-19T09:00:17.520737Z",
     "start_time": "2021-06-19T09:00:17.211663Z"
    },
    "scrolled": false
   },
   "outputs": [
    {
     "ename": "AttributeError",
     "evalue": "'Employee' object has no attribute 'PrintName'",
     "output_type": "error",
     "traceback": [
      "\u001b[1;31m---------------------------------------------------------------------------\u001b[0m",
      "\u001b[1;31mAttributeError\u001b[0m                            Traceback (most recent call last)",
      "Cell \u001b[1;32mIn[62], line 13\u001b[0m\n\u001b[0;32m     11\u001b[0m \u001b[38;5;66;03m# Outside class\u001b[39;00m\n\u001b[0;32m     12\u001b[0m E \u001b[38;5;241m=\u001b[39m Employee(\u001b[38;5;124m\"\u001b[39m\u001b[38;5;124mBella\u001b[39m\u001b[38;5;124m\"\u001b[39m, \u001b[38;5;241m60000\u001b[39m)\n\u001b[1;32m---> 13\u001b[0m \u001b[43mE\u001b[49m\u001b[38;5;241;43m.\u001b[39;49m\u001b[43mPrintName\u001b[49m()\n\u001b[0;32m     14\u001b[0m \u001b[38;5;28mprint\u001b[39m(E\u001b[38;5;241m.\u001b[39mname)\n\u001b[0;32m     15\u001b[0m \u001b[38;5;28mprint\u001b[39m(E\u001b[38;5;241m.\u001b[39mPrintName())\n",
      "\u001b[1;31mAttributeError\u001b[0m: 'Employee' object has no attribute 'PrintName'"
     ]
    }
   ],
   "source": [
    "# Example 2: Data Encapsulation in Python\n",
    "\n",
    "class Employee:\n",
    "    def __init__(self, name, salary):\n",
    "        self.name = name\n",
    "        self.__salary = salary\n",
    "\n",
    "    def show(self):\n",
    "        print(\"Name is \", self.name, \"and salary is\")\n",
    "\n",
    "# Outside class\n",
    "E = Employee(\"Bella\", 60000)\n",
    "E.PrintName()\n",
    "print(E.name)\n",
    "print(E.PrintName())\n",
    "print(E.__salary)\n",
    "\n",
    "# AttributeError: 'Employee' object has no attribute '__salary'"
   ]
  },
  {
   "cell_type": "markdown",
   "metadata": {},
   "source": [
    "**Explicación**:\n",
    "\n",
    "En el ejemplo anterior, creamos una clase llamada Empleado . Dentro de esa clase, declaramos dos variables nombre y __salario . Podemos observar que la variable nombre es accesible, pero __salario es una variable privada . No podemos acceder a ella desde fuera de la clase. Si intentamos acceder a ella, obtendremos un error."
   ]
  },
  {
   "cell_type": "markdown",
   "metadata": {},
   "source": [
    "## Polimorfismo\n",
    "\n",
    "El polimorfismo se basa en las palabras griegas **Poly** (muchos) y **morfismo** (formas). Crearemos una estructura que pueda adoptar o utilizar muchas formas de objetos.\n",
    "\n",
    "El polimorfismo es una capacidad (en la programación orientada a objetos) de usar una interfaz común para múltiples formas (tipos de datos).\n",
    "\n",
    "**Ejemplo 1:** El estudiante puede actuar como estudiante en la universidad, como jugador en el campo, y como hija/hermano en el hogar.\n",
    "\n",
    "**Ejemplo 2:** En el lenguaje de programación, el operador **`+`** actúa como una concatenación y una suma aritmética.\n",
    "\n",
    "**Ejemplo 3:** Si necesitamos colorear una figura, hay múltiples opciones de formas (rectángulo, cuadrado, círculo). Sin embargo, podríamos usar el mismo método para colorear cualquier figura.\n",
    "\n",
    "En Python, el polimorfismo nos permite definir los métodos de la clase hija con el mismo nombre que los definidos en la clase padre."
   ]
  },
  {
   "cell_type": "code",
   "execution_count": 63,
   "metadata": {
    "ExecuteTime": {
     "end_time": "2021-06-19T09:00:20.204307Z",
     "start_time": "2021-06-19T09:00:20.187708Z"
    }
   },
   "outputs": [
    {
     "name": "stdout",
     "output_type": "stream",
     "text": [
      "Parrot can fly\n",
      "Penguin can't fly\n",
      "Parrot can't swim\n",
      "Penguin can swim\n"
     ]
    }
   ],
   "source": [
    "# Example 1: Using Polymorphism in Python\n",
    "\n",
    "class Parrot:\n",
    "    def fly(self):\n",
    "        print(\"Parrot can fly\")\n",
    "    \n",
    "    def swim(self):\n",
    "        print(\"Parrot can't swim\")\n",
    "\n",
    "class Penguin:\n",
    "    def fly(self):\n",
    "        print(\"Penguin can't fly\")\n",
    "    \n",
    "    def swim(self):\n",
    "        print(\"Penguin can swim\")\n",
    "\n",
    "# common interface\n",
    "def flying_test(bird):\n",
    "    bird.fly()\n",
    "\n",
    "def nadando_test(bird):\n",
    "    bird.swim()\n",
    "\n",
    "#instantiate objects\n",
    "blu = Parrot()\n",
    "peggy = Penguin()\n",
    "\n",
    "# passing the object\n",
    "flying_test(blu)\n",
    "flying_test(peggy)\n",
    "\n",
    "# test para nadar\n",
    "nadando_test(blu)\n",
    "nadando_test(peggy)"
   ]
  },
  {
   "cell_type": "markdown",
   "metadata": {},
   "source": [
    "**Explicación**:\n",
    "\n",
    "En el programa anterior, definimos dos clases, **`Parrot`** y **`Penguin`**. Cada una de ellas tiene un método común **`fly()`**. Sin embargo, sus funciones son diferentes.\n",
    "\n",
    "Para usar el polimorfismo, creamos una interfaz común, es decir, la función **`flying_test()`**, que toma cualquier objeto y llama al método **`fly()`** del objeto. Así, cuando pasamos los objetos **`blu`** y **`peggy`** a la función **`flying_test()`**, se ejecutó de manera efectiva."
   ]
  },
  {
   "cell_type": "code",
   "execution_count": 64,
   "metadata": {
    "ExecuteTime": {
     "end_time": "2021-06-19T09:00:21.662302Z",
     "start_time": "2021-06-19T09:00:21.639840Z"
    },
    "scrolled": true
   },
   "outputs": [
    {
     "name": "stdout",
     "output_type": "stream",
     "text": [
      "Area of circle: 254.34\n",
      "Area of Rectangle: 54\n"
     ]
    }
   ],
   "source": [
    "# Example 2: Using Polymorphism in Python\n",
    "\n",
    "class Circle:\n",
    "    pi = 3.14\n",
    "\n",
    "    def __init__(self, redius):\n",
    "        self.radius = redius\n",
    "\n",
    "    def calculate_area(self):\n",
    "        print(\"Area of circle:\", self.pi * self.radius * self.radius)\n",
    "\n",
    "class Rectangle:\n",
    "    def __init__(self, length, width):\n",
    "        self.length = length\n",
    "        self.width = width\n",
    "\n",
    "    def calculate_area(self):\n",
    "        print(\"Area of Rectangle:\", self.length * self.width)\n",
    "\n",
    "cir = Circle(9)\n",
    "rect = Rectangle(9, 6)\n",
    "cir.calculate_area()   # Output Area of circle: 254.34\n",
    "\n",
    "rect.calculate_area()  # Output Area od Rectangle: 54"
   ]
  },
  {
   "cell_type": "markdown",
   "metadata": {},
   "source": [
    "**Explicación**:\n",
    "\n",
    "En el ejemplo anterior, creamos dos clases llamadas **`Circle`** y **`Rectangle`**. En ambas clases, creamos el mismo método con el nombre **`calculate_area`**. Este método actúa de manera diferente en cada clase. En el caso de la clase **`Circle`**, calcula el área del círculo, mientras que, en el caso de la clase **`Rectangle`**, calcula el área de un rectángulo."
   ]
  }
 ],
 "metadata": {
  "hide_input": false,
  "kernelspec": {
   "display_name": "Python 3",
   "language": "python",
   "name": "python3"
  },
  "language_info": {
   "codemirror_mode": {
    "name": "ipython",
    "version": 3
   },
   "file_extension": ".py",
   "mimetype": "text/x-python",
   "name": "python",
   "nbconvert_exporter": "python",
   "pygments_lexer": "ipython3",
   "version": "3.12.2"
  },
  "toc": {
   "base_numbering": 1,
   "nav_menu": {},
   "number_sections": true,
   "sideBar": true,
   "skip_h1_title": false,
   "title_cell": "Table of Contents",
   "title_sidebar": "Contents",
   "toc_cell": false,
   "toc_position": {},
   "toc_section_display": true,
   "toc_window_display": false
  },
  "varInspector": {
   "cols": {
    "lenName": 16,
    "lenType": 16,
    "lenVar": 40
   },
   "kernels_config": {
    "python": {
     "delete_cmd_postfix": "",
     "delete_cmd_prefix": "del ",
     "library": "var_list.py",
     "varRefreshCmd": "print(var_dic_list())"
    },
    "r": {
     "delete_cmd_postfix": ") ",
     "delete_cmd_prefix": "rm(",
     "library": "var_list.r",
     "varRefreshCmd": "cat(var_dic_list()) "
    }
   },
   "types_to_exclude": [
    "module",
    "function",
    "builtin_function_or_method",
    "instance",
    "_Feature"
   ],
   "window_display": false
  }
 },
 "nbformat": 4,
 "nbformat_minor": 2
}
